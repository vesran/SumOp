{
  "nbformat": 4,
  "nbformat_minor": 0,
  "metadata": {
    "accelerator": "GPU",
    "colab": {
      "name": "Sentiments segmenter_08.ipynb",
      "provenance": [],
      "collapsed_sections": [],
      "authorship_tag": "ABX9TyNlGedRzi2znQZzOKChzq6j",
      "include_colab_link": true
    },
    "kernelspec": {
      "display_name": "Python 3",
      "language": "python",
      "name": "python3"
    },
    "language_info": {
      "codemirror_mode": {
        "name": "ipython",
        "version": 3
      },
      "file_extension": ".py",
      "mimetype": "text/x-python",
      "name": "python",
      "nbconvert_exporter": "python",
      "pygments_lexer": "ipython3",
      "version": "3.8.5"
    }
  },
  "cells": [
    {
      "cell_type": "markdown",
      "metadata": {
        "id": "view-in-github",
        "colab_type": "text"
      },
      "source": [
        "<a href=\"https://colab.research.google.com/github/vesran/Synthesis/blob/main/notebooks/Sentiments_segmenter_08.ipynb\" target=\"_parent\"><img src=\"https://colab.research.google.com/assets/colab-badge.svg\" alt=\"Open In Colab\"/></a>"
      ]
    },
    {
      "cell_type": "code",
      "metadata": {
        "id": "6PC_5grneACP"
      },
      "source": [
        "import pandas as pd\n",
        "import numpy as np\n",
        "import matplotlib.pyplot as plt\n",
        "import tensorflow as tf\n",
        "from tensorflow.keras import layers\n",
        "import shutil\n",
        "from tensorflow.keras.layers.experimental.preprocessing import TextVectorization\n",
        "from tensorflow.keras.layers import Embedding"
      ],
      "execution_count": null,
      "outputs": []
    },
    {
      "cell_type": "code",
      "metadata": {
        "colab": {
          "base_uri": "https://localhost:8080/",
          "height": 206
        },
        "id": "JzHh9rnvWCQB",
        "outputId": "d136e0c9-aded-4760-b1d6-a625f12f54b9"
      },
      "source": [
        "df_semeval = pd.read_csv('sentiments_semeval.csv', sep=';')\n",
        "df_yelp = pd.read_csv('sentiments_yelp.csv', sep=';')\n",
        "\n",
        "df_yelp['source'] = 'train'\n",
        "df_yelp = df_yelp[['sentence', 'clean_sentence', 'label', 'source']].copy()\n",
        "df_yelp.head()"
      ],
      "execution_count": null,
      "outputs": [
        {
          "data": {
            "text/html": [
              "<div>\n",
              "<style scoped>\n",
              "    .dataframe tbody tr th:only-of-type {\n",
              "        vertical-align: middle;\n",
              "    }\n",
              "\n",
              "    .dataframe tbody tr th {\n",
              "        vertical-align: top;\n",
              "    }\n",
              "\n",
              "    .dataframe thead th {\n",
              "        text-align: right;\n",
              "    }\n",
              "</style>\n",
              "<table border=\"1\" class=\"dataframe\">\n",
              "  <thead>\n",
              "    <tr style=\"text-align: right;\">\n",
              "      <th></th>\n",
              "      <th>sentence</th>\n",
              "      <th>clean_sentence</th>\n",
              "      <th>label</th>\n",
              "      <th>source</th>\n",
              "    </tr>\n",
              "  </thead>\n",
              "  <tbody>\n",
              "    <tr>\n",
              "      <th>0</th>\n",
              "      <td>The food is fresh and so delicious!</td>\n",
              "      <td>food fresh so delicious</td>\n",
              "      <td>1</td>\n",
              "      <td>train</td>\n",
              "    </tr>\n",
              "    <tr>\n",
              "      <th>1</th>\n",
              "      <td>Came here on Sunday for dinner and ended up wa...</td>\n",
              "      <td>come here sunday dinner end up wait food hrs n...</td>\n",
              "      <td>0</td>\n",
              "      <td>train</td>\n",
              "    </tr>\n",
              "    <tr>\n",
              "      <th>2</th>\n",
              "      <td>I really think alot before even coming to this...</td>\n",
              "      <td>really think lot before even come location</td>\n",
              "      <td>0</td>\n",
              "      <td>train</td>\n",
              "    </tr>\n",
              "    <tr>\n",
              "      <th>3</th>\n",
              "      <td>A much needed addition to Winter Park and Orla...</td>\n",
              "      <td>much need addition winter park orlando general</td>\n",
              "      <td>1</td>\n",
              "      <td>train</td>\n",
              "    </tr>\n",
              "    <tr>\n",
              "      <th>4</th>\n",
              "      <td>10. international airport</td>\n",
              "      <td>international airport</td>\n",
              "      <td>1</td>\n",
              "      <td>train</td>\n",
              "    </tr>\n",
              "  </tbody>\n",
              "</table>\n",
              "</div>"
            ],
            "text/plain": [
              "                                            sentence  ... source\n",
              "0                The food is fresh and so delicious!  ...  train\n",
              "1  Came here on Sunday for dinner and ended up wa...  ...  train\n",
              "2  I really think alot before even coming to this...  ...  train\n",
              "3  A much needed addition to Winter Park and Orla...  ...  train\n",
              "4                          10. international airport  ...  train\n",
              "\n",
              "[5 rows x 4 columns]"
            ]
          },
          "execution_count": 5,
          "metadata": {
            "tags": []
          },
          "output_type": "execute_result"
        }
      ]
    },
    {
      "cell_type": "code",
      "metadata": {
        "colab": {
          "base_uri": "https://localhost:8080/",
          "height": 284
        },
        "id": "UzlyiFSleamS",
        "outputId": "10a34182-be09-45ae-e447-8c98aea3ab5f"
      },
      "source": [
        "df_semeval = df_semeval[df_semeval.source.isin(['train', 'val'])]\n",
        "df_semeval['origin'] = 'semeval'\n",
        "df_yelp['origin'] = 'yelp'\n",
        "df = pd.concat([df_semeval, df_yelp])\n",
        "\n",
        "df = df[df.clean_sentence.notnull()].copy()\n",
        "df['num_w'] = df.clean_sentence.apply(lambda x: len(x.split(' ')))\n",
        "df['num_w'].hist()"
      ],
      "execution_count": null,
      "outputs": [
        {
          "data": {
            "text/plain": [
              "<matplotlib.axes._subplots.AxesSubplot at 0x7fe16906f2d0>"
            ]
          },
          "execution_count": 12,
          "metadata": {
            "tags": []
          },
          "output_type": "execute_result"
        },
        {
          "data": {
            "image/png": "[encoded data removed]",
            "text/plain": [
              "<Figure size 432x288 with 1 Axes>"
            ]
          },
          "metadata": {
            "needs_background": "light",
            "tags": []
          },
          "output_type": "display_data"
        }
      ]
    },
    {
      "cell_type": "code",
      "metadata": {
        "colab": {
          "base_uri": "https://localhost:8080/",
          "height": 284
        },
        "id": "zBkHTW5MA_LU",
        "outputId": "4c1903f1-6c93-4a90-813e-a01fbe30e5e3"
      },
      "source": [
        "sents = df[df.num_w <= 15].copy()\n",
        "pos = sents.query(\"label == 1\").copy()\n",
        "neg = sents.query(\"label == 0\").copy()\n",
        "posneg = pd.concat([pos, neg]).sample(frac=1)\n",
        "posneg.label.hist()"
      ],
      "execution_count": null,
      "outputs": [
        {
          "data": {
            "text/plain": [
              "<matplotlib.axes._subplots.AxesSubplot at 0x7fe167a6a890>"
            ]
          },
          "execution_count": 18,
          "metadata": {
            "tags": []
          },
          "output_type": "execute_result"
        },
        {
          "data": {
            "image/png": "[encoded data removed]",
            "text/plain": [
              "<Figure size 432x288 with 1 Axes>"
            ]
          },
          "metadata": {
            "needs_background": "light",
            "tags": []
          },
          "output_type": "display_data"
        }
      ]
    },
    {
      "cell_type": "code",
      "metadata": {
        "colab": {
          "base_uri": "https://localhost:8080/"
        },
        "id": "lCh4l7tuxFNu",
        "outputId": "4ba227b0-0a34-4eea-95de-f8566f3575ff"
      },
      "source": [
        "posneg['tokens'] = posneg.clean_sentence.apply(lambda x: x.split(' '))\n",
        "posneg['tags'] = posneg.apply(lambda x: [x['label']] * len(x['tokens']), axis=1)\n",
        "\n",
        "train = posneg.query(\"source == 'train'\").copy()\n",
        "val = posneg.query(\"source == 'val'\").copy()\n",
        "\n",
        "val_pos = val.query(\"label==1\").sample(frac=1).head(300).copy()\n",
        "val_neg = val.query(\"label==0\").copy()\n",
        "val = pd.concat([val_pos, val_neg]).sample(frac=1)\n",
        "\n",
        "train.shape"
      ],
      "execution_count": null,
      "outputs": [
        {
          "data": {
            "text/plain": [
              "(78114, 8)"
            ]
          },
          "execution_count": 22,
          "metadata": {
            "tags": []
          },
          "output_type": "execute_result"
        }
      ]
    },
    {
      "cell_type": "code",
      "metadata": {
        "id": "iGDnLmKm4i77"
      },
      "source": [
        "max_len = 30\n",
        "\n",
        "def import_GloVe(path):\n",
        "    embeddings_index = {}\n",
        "    with open(path, encoding='utf-8') as f:\n",
        "        for line in f:\n",
        "            word, coefs = line.split(maxsplit=1)\n",
        "            coefs = np.fromstring(coefs, \"f\", sep=\" \")\n",
        "            embeddings_index[word.encode()] = coefs\n",
        "    print(f\"Found {len(embeddings_index)} word vectors.\")\n",
        "    return embeddings_index\n",
        "\n",
        "def prepare_embedding_matrix(embeddings_index, word_index, num_tokens, embedding_dim, binary=False):\n",
        "    hits, misses = 0, 0\n",
        "    embedding_matrix = np.zeros((num_tokens, embedding_dim))\n",
        "    for word, i in word_index.items():\n",
        "        embedding_vector = embeddings_index.get(word if binary else word.encode())\n",
        "        if embedding_vector is not None:\n",
        "            embedding_matrix[i] = embedding_vector\n",
        "            hits += 1\n",
        "        else:\n",
        "            misses += 1\n",
        "    print(f'Hits : {hits} | Misses : {misses}')\n",
        "    return embedding_matrix\n",
        "\n",
        "class PretrainedEmbedding(tf.keras.Model):\n",
        "    \n",
        "    def __init__(self, **kwargs):\n",
        "        super(PretrainedEmbedding, self).__init__()\n",
        "\n",
        "    def adapt(self, corpus, path, method='glove100'):\n",
        "        binary = path.split('.')[-1] == 'bin'\n",
        "\n",
        "        # Build vectorizer\n",
        "        self.vectorizer = TextVectorization(max_tokens=20000, output_sequence_length=max_len)\n",
        "        text_ds = tf.data.Dataset.from_tensor_slices(corpus).batch(128)\n",
        "        self.vectorizer.adapt(text_ds)\n",
        "\n",
        "        # Word to index\n",
        "        voc = self.vectorizer.get_vocabulary()\n",
        "        self.word_index = dict(zip(voc, range(2, len(voc))))\n",
        "\n",
        "        # Load embeddings\n",
        "        self.method = method\n",
        "        embeddings2index = import_GloVe(path)\n",
        "        emb_dim = 100\n",
        "\n",
        "        # Create embedding layer\n",
        "        self.embedding_matrix = prepare_embedding_matrix(embeddings2index, self.word_index, num_tokens=len(voc)+2,\n",
        "                                                    embedding_dim=100, binary=binary)\n",
        "        self.embedding_layer = Embedding(len(voc) + 2, emb_dim,\n",
        "                                         embeddings_initializer=tf.keras.initializers.Constant(self.embedding_matrix),\n",
        "                                         trainable=False)\n",
        "\n",
        "    def call(self, string_inputs):\n",
        "        x = self.vectorizer(string_inputs)\n",
        "        embs = self.embedding_layer(x)\n",
        "        return embs"
      ],
      "execution_count": null,
      "outputs": []
    },
    {
      "cell_type": "code",
      "metadata": {
        "colab": {
          "base_uri": "https://localhost:8080/"
        },
        "id": "q7FlAYx63jG-",
        "outputId": "1fc4e85d-e490-46b9-ab8a-80028c8e150c"
      },
      "source": [
        "from tensorflow.keras.utils import Sequence  \n",
        "import random\n",
        "\n",
        "contrasts = ['but', 'however', 'despite', 'while']\n",
        "\n",
        "def complete(li, max_len):\n",
        "    li = li + [li[-1]] * (max_len - len(li))\n",
        "    li = li[:max_len]\n",
        "    assert len(li) == max_len\n",
        "    return li\n",
        "\n",
        "class DataGen(Sequence):\n",
        "    def __init__(self, x, y, batch_size):\n",
        "        self.y1 = y[::2]\n",
        "        self.y2 = y[1::2]\n",
        "        self.x1 = x[::2]  # Tous les éléments d'indice pair\n",
        "        self.x2 = x[1::2] # Tousl les éléments d'indice impair\n",
        "        self.batch_size = batch_size\n",
        "\n",
        "    def __len__(self):\n",
        "        return int(0.5 * np.ceil((len(self.x1) + len(self.x2)) / float(self.batch_size)))\n",
        "\n",
        "    def __getitem__(self, idx):\n",
        "        if idx == 0:\n",
        "            general_order1 = list(range(len(self.x1)))\n",
        "            general_order2 = list(range(len(self.x2)))\n",
        "            random.shuffle(general_order1), random.shuffle(general_order2)\n",
        "            self.x1, self.y1 = self.x1[general_order1], self.y1[general_order1]\n",
        "            self.x2, self.y2 = self.x2[general_order1], self.y2[general_order1]\n",
        "\n",
        "        order1, order2 = list(range(self.batch_size)), list(range(self.batch_size))\n",
        "        random.shuffle(order1), random.shuffle(order2)\n",
        "\n",
        "        batch_x1 = self.x1[idx * self.batch_size:(idx + 1) * self.batch_size][order1]\n",
        "        batch_x2 = self.x2[idx * self.batch_size:(idx + 1) * self.batch_size][order2]\n",
        "        batch_y1 = self.y1[idx * self.batch_size:(idx + 1) * self.batch_size][order1].tolist()\n",
        "        batch_y2 = self.y2[idx * self.batch_size:(idx + 1) * self.batch_size][order2].tolist()\n",
        "\n",
        "        # read your data here using the batch lists, batch_x and batch_y\n",
        "        x, y = [], []\n",
        "        for i in range(self.batch_size):\n",
        "            change_sentiment = batch_y1[i][-1] != batch_y2[i][0]\n",
        "            if random.random() < 0.5 and change_sentiment:\n",
        "                contrast = random.choice(contrasts)  # One word\n",
        "                x_entry = batch_x1[i] + f\" {contrast} \" + batch_x2[i]\n",
        "                y_entry = complete(batch_y1[i] + [batch_y2[i][0]] + batch_y2[i], max_len)\n",
        "            else:\n",
        "                x_entry = batch_x1[i] + \" \" + batch_x2[i]\n",
        "                y_entry = complete(batch_y1[i] + batch_y2[i], max_len)\n",
        "\n",
        "            # add data\n",
        "            x.append(x_entry)\n",
        "            y.append(y_entry)\n",
        "\n",
        "        return np.array(x), np.array(y)\n",
        "\n",
        "d = DataGen(train['clean_sentence'].head(10).values, train['tags'].head(10).values, 4)\n",
        "d[0]"
      ],
      "execution_count": null,
      "outputs": [
        {
          "data": {
            "text/plain": [
              "(array(['really enjoy breakfast especially spuds crispy food fresh delicious reasonably price',\n",
              "        'always deliver wrong order then even answer phone get pizza elsewhere',\n",
              "        'spoon holder mold your first available appointment two month away not run group campaign',\n",
              "        'everyone fabulous wonderful update review because ton cool thing with brewery lately'],\n",
              "       dtype='<U88'),\n",
              " array([[1, 1, 1, 1, 1, 1, 1, 1, 1, 1, 1, 1, 1, 1, 1, 1, 1, 1, 1, 1, 1, 1,\n",
              "         1, 1, 1, 1, 1, 1, 1, 1],\n",
              "        [0, 0, 0, 0, 0, 0, 0, 0, 0, 0, 0, 0, 0, 0, 0, 0, 0, 0, 0, 0, 0, 0,\n",
              "         0, 0, 0, 0, 0, 0, 0, 0],\n",
              "        [0, 0, 0, 0, 0, 0, 0, 0, 0, 0, 0, 0, 0, 0, 0, 0, 0, 0, 0, 0, 0, 0,\n",
              "         0, 0, 0, 0, 0, 0, 0, 0],\n",
              "        [1, 1, 1, 1, 1, 1, 1, 1, 1, 1, 1, 1, 1, 1, 1, 1, 1, 1, 1, 1, 1, 1,\n",
              "         1, 1, 1, 1, 1, 1, 1, 1]]))"
            ]
          },
          "execution_count": 32,
          "metadata": {
            "tags": []
          },
          "output_type": "execute_result"
        }
      ]
    },
    {
      "cell_type": "code",
      "metadata": {
        "colab": {
          "base_uri": "https://localhost:8080/"
        },
        "id": "5g5gAKEr1K5B",
        "outputId": "e45a59db-4dca-4b87-fb47-ad3e73e21e90"
      },
      "source": [
        "p = PretrainedEmbedding()\n",
        "p.adapt(train.clean_sentence, './glove.6B.100d.txt')\n",
        "\n",
        "def get_model():\n",
        "    inp = tf.keras.Input(shape=(1, ), dtype='string')\n",
        "    x = inp\n",
        "    x = p(x)\n",
        "    x = layers.Bidirectional(layers.LSTM(128, return_sequences=True, activation='relu', kernel_regularizer=tf.keras.regularizers.L2(0.0001)))(x)\n",
        "    x = layers.Bidirectional(layers.LSTM(128, return_sequences=True, activation='relu', kernel_regularizer=tf.keras.regularizers.L2(0.0001)))(x)\n",
        "    x = layers.Dropout(0.2)(x)\n",
        "\n",
        "    x = layers.Bidirectional(layers.LSTM(128, return_sequences=True, activation='relu', kernel_regularizer=tf.keras.regularizers.L2(0.0001)))(x)\n",
        "    x = layers.Bidirectional(layers.LSTM(128, return_sequences=True, activation='relu', kernel_regularizer=tf.keras.regularizers.L2(0.0001)))(x)\n",
        "    x = layers.Dropout(0.2)(x)\n",
        "\n",
        "    out = layers.TimeDistributed(layers.Dense(1, activation='sigmoid', kernel_regularizer=tf.keras.regularizers.L2(0.001)))(x)\n",
        "    model = tf.keras.Model(inputs=inp, outputs=out)\n",
        "    return model\n",
        "\n",
        "model = get_model()\n",
        "model.summary()"
      ],
      "execution_count": null,
      "outputs": [
        {
          "name": "stdout",
          "output_type": "stream",
          "text": [
            "Found 400000 word vectors.\n",
            "Hits : 12775 | Misses : 654\n",
            "WARNING:tensorflow:Layer lstm will not use cuDNN kernels since it doesn't meet the criteria. It will use a generic GPU kernel as fallback when running on GPU.\n",
            "WARNING:tensorflow:Layer lstm will not use cuDNN kernels since it doesn't meet the criteria. It will use a generic GPU kernel as fallback when running on GPU.\n",
            "WARNING:tensorflow:Layer lstm will not use cuDNN kernels since it doesn't meet the criteria. It will use a generic GPU kernel as fallback when running on GPU.\n",
            "WARNING:tensorflow:Layer lstm_1 will not use cuDNN kernels since it doesn't meet the criteria. It will use a generic GPU kernel as fallback when running on GPU.\n",
            "WARNING:tensorflow:Layer lstm_1 will not use cuDNN kernels since it doesn't meet the criteria. It will use a generic GPU kernel as fallback when running on GPU.\n",
            "WARNING:tensorflow:Layer lstm_1 will not use cuDNN kernels since it doesn't meet the criteria. It will use a generic GPU kernel as fallback when running on GPU.\n",
            "WARNING:tensorflow:Layer lstm_2 will not use cuDNN kernels since it doesn't meet the criteria. It will use a generic GPU kernel as fallback when running on GPU.\n",
            "WARNING:tensorflow:Layer lstm_2 will not use cuDNN kernels since it doesn't meet the criteria. It will use a generic GPU kernel as fallback when running on GPU.\n",
            "WARNING:tensorflow:Layer lstm_2 will not use cuDNN kernels since it doesn't meet the criteria. It will use a generic GPU kernel as fallback when running on GPU.\n",
            "WARNING:tensorflow:Layer lstm_3 will not use cuDNN kernels since it doesn't meet the criteria. It will use a generic GPU kernel as fallback when running on GPU.\n",
            "WARNING:tensorflow:Layer lstm_3 will not use cuDNN kernels since it doesn't meet the criteria. It will use a generic GPU kernel as fallback when running on GPU.\n",
            "WARNING:tensorflow:Layer lstm_3 will not use cuDNN kernels since it doesn't meet the criteria. It will use a generic GPU kernel as fallback when running on GPU.\n",
            "Model: \"model\"\n",
            "_________________________________________________________________\n",
            "Layer (type)                 Output Shape              Param #   \n",
            "=================================================================\n",
            "input_1 (InputLayer)         [(None, 1)]               0         \n",
            "_________________________________________________________________\n",
            "pretrained_embedding (Pretra (None, 30, 100)           1343300   \n",
            "_________________________________________________________________\n",
            "bidirectional (Bidirectional (None, 30, 256)           234496    \n",
            "_________________________________________________________________\n",
            "bidirectional_1 (Bidirection (None, 30, 256)           394240    \n",
            "_________________________________________________________________\n",
            "dropout (Dropout)            (None, 30, 256)           0         \n",
            "_________________________________________________________________\n",
            "bidirectional_2 (Bidirection (None, 30, 256)           394240    \n",
            "_________________________________________________________________\n",
            "bidirectional_3 (Bidirection (None, 30, 256)           394240    \n",
            "_________________________________________________________________\n",
            "dropout_1 (Dropout)          (None, 30, 256)           0         \n",
            "_________________________________________________________________\n",
            "time_distributed (TimeDistri (None, 30, 1)             257       \n",
            "=================================================================\n",
            "Total params: 2,760,773\n",
            "Trainable params: 1,417,473\n",
            "Non-trainable params: 1,343,300\n",
            "_________________________________________________________________\n"
          ]
        }
      ]
    },
    {
      "cell_type": "code",
      "metadata": {
        "colab": {
          "base_uri": "https://localhost:8080/"
        },
        "id": "vcQJaoyW2mFy",
        "outputId": "bc4ac042-49fc-43fa-eb7f-f808e33c4e78"
      },
      "source": [
        "model.compile(optimizer=tf.keras.optimizers.Adam(learning_rate=0.0005),\n",
        "              loss=\"binary_crossentropy\",\n",
        "              metrics=[\"acc\"])\n",
        "batch_size = 128\n",
        "datagen = DataGen(train['clean_sentence'].values, train['tags'].values, batch_size)\n",
        "val_datagen = DataGen(val['clean_sentence'].values, val['tags'].values, batch_size)\n",
        "\n",
        "hist = model.fit(datagen, epochs=20, validation_data=val_datagen,\n",
        "                 callbacks=[tf.keras.callbacks.EarlyStopping(monitor='val_loss', patience=3, restore_best_weights=True)])"
      ],
      "execution_count": null,
      "outputs": [
        {
          "name": "stdout",
          "output_type": "stream",
          "text": [
            "Epoch 1/20\n",
            "305/305 [==============================] - 146s 443ms/step - loss: 0.6673 - acc: 0.6721 - val_loss: 0.5223 - val_acc: 0.7603\n",
            "Epoch 2/20\n",
            "305/305 [==============================] - 134s 440ms/step - loss: 0.4832 - acc: 0.7930 - val_loss: 0.4816 - val_acc: 0.7919\n",
            "Epoch 3/20\n",
            "305/305 [==============================] - 132s 432ms/step - loss: 0.4287 - acc: 0.8271 - val_loss: 0.4845 - val_acc: 0.8126\n",
            "Epoch 4/20\n",
            "305/305 [==============================] - 131s 431ms/step - loss: 0.3878 - acc: 0.8479 - val_loss: 0.4136 - val_acc: 0.8350\n",
            "Epoch 5/20\n",
            "305/305 [==============================] - 131s 430ms/step - loss: 0.3711 - acc: 0.8561 - val_loss: 0.3933 - val_acc: 0.8435\n",
            "Epoch 6/20\n",
            "305/305 [==============================] - 132s 434ms/step - loss: 0.3562 - acc: 0.8634 - val_loss: 0.4064 - val_acc: 0.8329\n",
            "Epoch 7/20\n",
            "305/305 [==============================] - 134s 439ms/step - loss: 0.3434 - acc: 0.8716 - val_loss: 0.3849 - val_acc: 0.8480\n",
            "Epoch 8/20\n",
            "305/305 [==============================] - 133s 438ms/step - loss: 0.3337 - acc: 0.8730 - val_loss: 0.3943 - val_acc: 0.8411\n",
            "Epoch 9/20\n",
            "305/305 [==============================] - 135s 444ms/step - loss: 0.3210 - acc: 0.8810 - val_loss: 0.3678 - val_acc: 0.8504\n",
            "Epoch 10/20\n",
            "305/305 [==============================] - 133s 437ms/step - loss: 0.3152 - acc: 0.8836 - val_loss: 0.4004 - val_acc: 0.8379\n",
            "Epoch 11/20\n",
            "305/305 [==============================] - 134s 440ms/step - loss: 0.3007 - acc: 0.8909 - val_loss: 0.3993 - val_acc: 0.8349\n",
            "Epoch 12/20\n",
            "305/305 [==============================] - 134s 441ms/step - loss: 0.3035 - acc: 0.8880 - val_loss: 0.3445 - val_acc: 0.8758\n",
            "Epoch 13/20\n",
            "305/305 [==============================] - 135s 443ms/step - loss: 0.2966 - acc: 0.8924 - val_loss: 0.3916 - val_acc: 0.8454\n",
            "Epoch 14/20\n",
            "305/305 [==============================] - 136s 447ms/step - loss: 0.2850 - acc: 0.8985 - val_loss: 0.4480 - val_acc: 0.8160\n",
            "Epoch 15/20\n",
            "305/305 [==============================] - 132s 432ms/step - loss: 0.2805 - acc: 0.8990 - val_loss: 0.4116 - val_acc: 0.8348\n"
          ]
        }
      ]
    },
    {
      "cell_type": "code",
      "metadata": {
        "colab": {
          "base_uri": "https://localhost:8080/"
        },
        "id": "5mE0ny9YwCO5",
        "outputId": "58b38a70-cdd5-45ba-f19b-0dba1680b575"
      },
      "source": [
        "# Finetuning\n",
        "p.trainable = True\n",
        "\n",
        "model.compile(optimizer=tf.keras.optimizers.Adam(learning_rate=0.00003),\n",
        "              loss=\"binary_crossentropy\",\n",
        "              metrics=[\"acc\"])\n",
        "datagen = DataGen(train['clean_sentence'].values, train['tags'].values, batch_size)\n",
        "val_datagen = DataGen(val['clean_sentence'].values, val['tags'].values, batch_size)\n",
        "\n",
        "hist2 = model.fit(datagen, epochs=15, validation_data=val_datagen,\n",
        "                 callbacks=[tf.keras.callbacks.EarlyStopping(monitor='val_loss', patience=3, restore_best_weights=True)])"
      ],
      "execution_count": null,
      "outputs": [
        {
          "name": "stdout",
          "output_type": "stream",
          "text": [
            "Epoch 1/15\n",
            "305/305 [==============================] - 146s 456ms/step - loss: 0.2709 - acc: 0.9038 - val_loss: 0.3684 - val_acc: 0.8704\n",
            "Epoch 2/15\n",
            "305/305 [==============================] - 138s 451ms/step - loss: 0.2593 - acc: 0.9092 - val_loss: 0.3538 - val_acc: 0.8677\n",
            "Epoch 3/15\n",
            "305/305 [==============================] - 137s 449ms/step - loss: 0.2567 - acc: 0.9108 - val_loss: 0.3897 - val_acc: 0.8527\n",
            "Epoch 4/15\n",
            "305/305 [==============================] - 137s 450ms/step - loss: 0.2538 - acc: 0.9112 - val_loss: 0.3557 - val_acc: 0.8723\n",
            "Epoch 5/15\n",
            "305/305 [==============================] - 137s 449ms/step - loss: 0.2471 - acc: 0.9151 - val_loss: 0.3396 - val_acc: 0.8849\n",
            "Epoch 6/15\n",
            "305/305 [==============================] - 137s 450ms/step - loss: 0.2435 - acc: 0.9163 - val_loss: 0.3089 - val_acc: 0.8913\n",
            "Epoch 7/15\n",
            "305/305 [==============================] - 139s 457ms/step - loss: 0.2447 - acc: 0.9168 - val_loss: 0.3920 - val_acc: 0.8546\n",
            "Epoch 8/15\n",
            "305/305 [==============================] - 137s 449ms/step - loss: 0.2406 - acc: 0.9185 - val_loss: 0.3610 - val_acc: 0.8660\n",
            "Epoch 9/15\n",
            "305/305 [==============================] - 138s 452ms/step - loss: 0.2370 - acc: 0.9201 - val_loss: 0.3707 - val_acc: 0.8560\n"
          ]
        }
      ]
    },
    {
      "cell_type": "code",
      "metadata": {
        "colab": {
          "base_uri": "https://localhost:8080/",
          "height": 297
        },
        "id": "71PgJKbXxnjU",
        "outputId": "db2f9976-c8ca-4820-c4be-edf16c56c7cf"
      },
      "source": [
        "def plot_hist(hist):\n",
        "    h = hist.history\n",
        "    _, axs = plt.subplots(1, 2, figsize=(25, 5))\n",
        "    axs = np.ravel(axs)\n",
        "    ax = axs[0]\n",
        "    ax.plot(range(1, len(h['acc'])+1), h['acc'], label='Train')\n",
        "    ax.plot(range(1, len(h['val_acc'])+1), h['val_acc'], label='Validation')\n",
        "    ax.set_title('Accuracy')\n",
        "    ax.legend()\n",
        "    ax = axs[1]\n",
        "    ax.plot(range(1, len(h['loss'])+1), h['loss'], label='Train')\n",
        "    ax.plot(range(1, len(h['val_loss'])+1), h['val_loss'], label='Validation')\n",
        "    ax.set_title('Loss')\n",
        "    ax.legend()\n",
        "\n",
        "model_name = 'anaseq_008'\n",
        "model.save(model_name)\n",
        "shutil.make_archive(model_name, 'zip', model_name)\n",
        "\n",
        "hist.history['acc'] += hist2.history['acc']\n",
        "hist.history['loss'] += hist2.history['loss']\n",
        "hist.history['val_acc'] += hist2.history['val_acc']\n",
        "hist.history['val_loss'] += hist2.history['val_loss']\n",
        "plot_hist(hist)"
      ],
      "execution_count": null,
      "outputs": [
        {
          "data": {
            "image/png": "[encoded data removed]",
            "text/plain": [
              "<Figure size 1800x360 with 2 Axes>"
            ]
          },
          "metadata": {
            "needs_background": "light",
            "tags": []
          },
          "output_type": "display_data"
        }
      ]
    },
    {
      "cell_type": "code",
      "metadata": {
        "colab": {
          "base_uri": "https://localhost:8080/"
        },
        "id": "qm0O03Z1TuUA",
        "outputId": "692e3b1f-1d92-4db7-a691-b154df427a1b"
      },
      "source": [
        "def debug_infer(df, i, model):\n",
        "    print(df.sentence.iloc[i])\n",
        "    text = df.clean_sentence.iloc[i]\n",
        "    pred = model.predict(np.array([text]).reshape(-1, 1)).flatten()\n",
        "    print(text)\n",
        "    tokens = df.clean_sentence.iloc[i].split(' ')\n",
        "    for k, (p, w) in enumerate(zip(pred, tokens)):\n",
        "        if \"tags\" in df.columns:\n",
        "            print(df.tags.iloc[i][k], p, w)\n",
        "        else:\n",
        "            print(p, w)\n",
        "\n",
        "testset = pd.read_csv('sentiments_testset.csv', sep=';')\n",
        "debug_infer(testset, 1, model)"
      ],
      "execution_count": null,
      "outputs": [
        {
          "name": "stdout",
          "output_type": "stream",
          "text": [
            "I have to say they have one of the fastest delivery times in the city.\n",
            "say one fast delivery time city\n",
            "0.68062377 say\n",
            "0.8187174 one\n",
            "0.8970187 fast\n",
            "0.92714393 delivery\n",
            "0.9360809 time\n",
            "0.9360083 city\n"
          ]
        }
      ]
    }
  ]
}